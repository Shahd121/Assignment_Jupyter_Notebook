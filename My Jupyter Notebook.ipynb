{
 "cells": [
  {
   "cell_type": "markdown",
   "metadata": {
    "collapsed": true
   },
   "source": [
    "# My Jupyter Notebook on IBM Watson Studio"
   ]
  },
  {
   "cell_type": "markdown",
   "metadata": {},
   "source": [
    "**Shahd Abdelrahman**\n",
    "\n",
    "GIS specilist"
   ]
  },
  {
   "cell_type": "markdown",
   "metadata": {},
   "source": [
    "*I am interested in data science because it will give more tools to use data for improving peoples lives*"
   ]
  },
  {
   "cell_type": "markdown",
   "metadata": {},
   "source": [
    "### The next code is going to print the days of the week in order"
   ]
  },
  {
   "cell_type": "code",
   "execution_count": 8,
   "metadata": {},
   "outputs": [
    {
     "name": "stdout",
     "output_type": "stream",
     "text": [
      "Saturday\n",
      "Sudany\n",
      "Moday\n",
      "Tuesday\n",
      "Wednesday\n",
      "Thuresday\n",
      "Friday\n"
     ]
    }
   ],
   "source": [
    "Week_days = [\"Saturday\", \"Sudany\", \"Moday\" , \"Tuesday\" , \"Wednesday\" , \"Thuresday\" , \"Friday\"]\n",
    "for x in Week_days:\n",
    " print(x)"
   ]
  },
  {
   "cell_type": "markdown",
   "metadata": {},
   "source": [
    "<blockquote>“Where there is data smoke, there is business fire.” — Thomas Redman</blockquote>\n",
    "\n",
    "\n",
    "<hr>\n",
    "\n",
    "\n",
    "<ol>\n",
    " <li>One</li>\n",
    " <li>Two</li>\n",
    " <li>Three</li>\n",
    " <li>Four</li>\n",
    " <li>Five</li>\n",
    " <li>Six</li>\n",
    "</ol>\n",
    "\n",
    "<hr>\n",
    "\n",
    "\n",
    "<a href=\"https://www.britannica.com/place/Sudan\">https://www.britannica.com/place/Sudan</a>"
   ]
  },
  {
   "cell_type": "code",
   "execution_count": null,
   "metadata": {},
   "outputs": [],
   "source": []
  }
 ],
 "metadata": {
  "kernelspec": {
   "display_name": "Python 3.9",
   "language": "python",
   "name": "python3"
  },
  "language_info": {
   "codemirror_mode": {
    "name": "ipython",
    "version": 3
   },
   "file_extension": ".py",
   "mimetype": "text/x-python",
   "name": "python",
   "nbconvert_exporter": "python",
   "pygments_lexer": "ipython3",
   "version": "3.9.12"
  }
 },
 "nbformat": 4,
 "nbformat_minor": 1
}
